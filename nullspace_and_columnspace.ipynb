{
 "cells": [
  {
   "cell_type": "markdown",
   "metadata": {},
   "source": [
    "## Find nullspace of a matrix\n",
    "\n",
    "To find the nullspace of a matrix, use nullspace. nullspace returns a list of column vectors that span the nullspace of the matrix.\n",
    "\n",
    "***NOTE FOR COL SPACE UTILIZE THE MATRIX A, NOT THE B MATRIX THAT IS ROW-REDUCED***"
   ]
  },
  {
   "cell_type": "code",
   "execution_count": 1,
   "metadata": {},
   "outputs": [],
   "source": [
    "from sympy import Matrix"
   ]
  },
  {
   "cell_type": "code",
   "execution_count": 2,
   "metadata": {},
   "outputs": [
    {
     "data": {
      "text/plain": [
       "[Matrix([\n",
       " [-1],\n",
       " [ 1],\n",
       " [ 0],\n",
       " [ 0],\n",
       " [ 0]]),\n",
       " Matrix([\n",
       " [-2],\n",
       " [ 0],\n",
       " [ 2],\n",
       " [ 1],\n",
       " [ 0]])]"
      ]
     },
     "execution_count": 2,
     "metadata": {},
     "output_type": "execute_result"
    }
   ],
   "source": [
    "## DO NOT INCLUDE vector B, in other words don't compute augmented matrix here!!!\n",
    "\n",
    "#M = Matrix(Mn)\n",
    "#M = Matrix([[1, 3, 5, 0], [0, 1, 4, -2]])## 2X4\n",
    "#M = Matrix([[1, 8, -2, -5, 1], [0, 1, -6, 1, 0],[0, 0, 0, 0, 0]])## 2X4\n",
    "#M = Matrix([[1, 1, 0, 3, 6], [0, 0, 5, -15, 5], [0, 0, 0, 0, -8], [0, 0, 0, 0, 0]]) ## 4X6\n",
    "#M = Matrix([[1, 1, -4, 1, 7], [0, 1, 0, -1, -2], [0, 0, -9, 0, 18]]) ## 4X6\n",
    "#M = Matrix([[1, 2, 0, 4, 5], [0, 0, 5, -7, 8], [0, 0, 0, 0, -9], [0, 0, 0, 0, 0]]) ## 4X5\n",
    "#M = Matrix([[1, 1, 0, 2, 4], [0, 0, 2, -2, 2], [0, 0, 0, 0, -8], [0, 0, 0, 0, 0]]) ## 4X6\n",
    "\n",
    "M = [[1, 1, 0, 2, 3], \n",
    "      [0, 0, 3, -6, 3], \n",
    "      [0, 0, 0, 0, -6], \n",
    "      [0, 0, 0, 0, 0]]\n",
    "\n",
    "M=Matrix(M)\n",
    "M.nullspace()"
   ]
  },
  {
   "cell_type": "markdown",
   "metadata": {},
   "source": [
    "## Find Columnspace of a matrix\n",
    "\n",
    "To find the columnspace of a matrix, use columnspace. columnspace returns a list of column vectors that span the columnspace of the matrix."
   ]
  },
  {
   "cell_type": "code",
   "execution_count": 3,
   "metadata": {},
   "outputs": [
    {
     "data": {
      "text/plain": [
       "[Matrix([\n",
       " [1],\n",
       " [2],\n",
       " [1],\n",
       " [3]]),\n",
       " Matrix([\n",
       " [-5],\n",
       " [-5],\n",
       " [ 0],\n",
       " [-5]]),\n",
       " Matrix([\n",
       " [-3],\n",
       " [ 2],\n",
       " [ 5],\n",
       " [-2]])]"
      ]
     },
     "execution_count": 3,
     "metadata": {},
     "output_type": "execute_result"
    }
   ],
   "source": [
    "M = Matrix([[1, 2, -5, 11, -3], [2, 4, -5, 15, 2], [1, 2, 0, 4, 5], [3, 6, -5, 19, -2]]) ## 4X5\n",
    "M.columnspace()"
   ]
  }
 ],
 "metadata": {
  "kernelspec": {
   "display_name": "Python 3",
   "language": "python",
   "name": "python3"
  },
  "language_info": {
   "codemirror_mode": {
    "name": "ipython",
    "version": 3
   },
   "file_extension": ".py",
   "mimetype": "text/x-python",
   "name": "python",
   "nbconvert_exporter": "python",
   "pygments_lexer": "ipython3",
   "version": "3.8.3"
  }
 },
 "nbformat": 4,
 "nbformat_minor": 4
}
