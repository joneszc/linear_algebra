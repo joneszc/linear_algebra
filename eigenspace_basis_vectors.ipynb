{
 "cells": [
  {
   "cell_type": "markdown",
   "metadata": {},
   "source": [
    "## Basis vectors for eigenspaces"
   ]
  },
  {
   "cell_type": "code",
   "execution_count": 1,
   "metadata": {},
   "outputs": [],
   "source": [
    "import numpy as np\n",
    "from scipy import linalg\n",
    "from sympy import Matrix\n",
    "from scipy.linalg import solve"
   ]
  },
  {
   "cell_type": "code",
   "execution_count": 2,
   "metadata": {},
   "outputs": [],
   "source": [
    "A2 = np.array([[5, 0, 0, 0], \n",
    "              [0, 5, 0, 0], \n",
    "              [1, 4, -3, 0], \n",
    "              [-1, -2, 0, -3]]) \n",
    "\n",
    "A4 = np.array([[2, 0, 0],\n",
    "              [-1, 1, 0],\n",
    "              [5, 3, -3]])\n",
    "\n",
    "A5 = np.array([[2, 3],\n",
    "              [4, 1]])"
   ]
  },
  {
   "cell_type": "markdown",
   "metadata": {},
   "source": [
    "***The np.linalg.eig function already returns the eigenvectors, which are exactly the basis vectors for your eigenspaces.***"
   ]
  },
  {
   "cell_type": "code",
   "execution_count": 3,
   "metadata": {},
   "outputs": [
    {
     "name": "stdout",
     "output_type": "stream",
     "text": [
      "[-3.+0.j -3.+0.j  5.+0.j  5.+0.j]\n"
     ]
    }
   ],
   "source": [
    "eigenVal, eigenVec = linalg.eig(A2)\n",
    "print(eigenVal)"
   ]
  },
  {
   "cell_type": "code",
   "execution_count": 4,
   "metadata": {},
   "outputs": [],
   "source": [
    "# span the corresponding eigenspaces for eigenvalues \n",
    "lambda1 = eigenVal[0] #and \n",
    "lambda2 = eigenVal[1]"
   ]
  },
  {
   "cell_type": "markdown",
   "metadata": {},
   "source": [
    "***sympy has a very convenient way of getting eigenvalues and eigenvectors: sympy-doc***\n",
    "\n",
    "***The example would simply become:***\n",
    "\n",
    "A.eigenvals() returns {-sqrt(17)/2 - 3/2: 1, -3/2 + sqrt(17)/2: 1} which is a dictionary of eigenvalues and their multiplicities.\n",
    "\n",
    "(Also try [T, D] = A.diagonalize() as a better method in SymPy.)"
   ]
  },
  {
   "cell_type": "code",
   "execution_count": 5,
   "metadata": {},
   "outputs": [
    {
     "data": {
      "text/plain": [
       "{5: 2, -3: 2}"
      ]
     },
     "execution_count": 5,
     "metadata": {},
     "output_type": "execute_result"
    }
   ],
   "source": [
    "## SYMPY IS MORE ACCURATE !! \n",
    "#A = Matrix([[0, 2], [1, -3]])\n",
    "AA = Matrix(A2)\n",
    "#print(A3.eigenvals())  #returns eigenvalues and their algebraic multiplicity\n",
    "AA.eigenvals()  #returns eigenvalues, eigenvects\n",
    "#print(A3.eigenvects())"
   ]
  },
  {
   "cell_type": "code",
   "execution_count": 6,
   "metadata": {},
   "outputs": [
    {
     "data": {
      "text/plain": [
       "[(-3,\n",
       "  2,\n",
       "  [Matrix([\n",
       "   [0],\n",
       "   [0],\n",
       "   [1],\n",
       "   [0]]),\n",
       "   Matrix([\n",
       "   [0],\n",
       "   [0],\n",
       "   [0],\n",
       "   [1]])]),\n",
       " (5,\n",
       "  2,\n",
       "  [Matrix([\n",
       "   [-8],\n",
       "   [ 4],\n",
       "   [ 1],\n",
       "   [ 0]]),\n",
       "   Matrix([\n",
       "   [-16],\n",
       "   [  4],\n",
       "   [  0],\n",
       "   [  1]])])]"
      ]
     },
     "execution_count": 6,
     "metadata": {},
     "output_type": "execute_result"
    }
   ],
   "source": [
    "AA.eigenvects()"
   ]
  },
  {
   "cell_type": "code",
   "execution_count": 8,
   "metadata": {},
   "outputs": [
    {
     "name": "stdout",
     "output_type": "stream",
     "text": [
      "[Matrix([\n",
      "[-8],\n",
      "[ 4],\n",
      "[ 1],\n",
      "[ 0]]), Matrix([\n",
      "[-16],\n",
      "[  4],\n",
      "[  0],\n",
      "[  1]])]\n"
     ]
    }
   ],
   "source": [
    "print(AA.eigenvects()[1][-1])"
   ]
  }
 ],
 "metadata": {
  "kernelspec": {
   "display_name": "Python 3",
   "language": "python",
   "name": "python3"
  },
  "language_info": {
   "codemirror_mode": {
    "name": "ipython",
    "version": 3
   },
   "file_extension": ".py",
   "mimetype": "text/x-python",
   "name": "python",
   "nbconvert_exporter": "python",
   "pygments_lexer": "ipython3",
   "version": "3.8.3"
  }
 },
 "nbformat": 4,
 "nbformat_minor": 4
}
