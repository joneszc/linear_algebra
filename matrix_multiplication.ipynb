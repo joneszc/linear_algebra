{
 "cells": [
  {
   "cell_type": "markdown",
   "metadata": {},
   "source": [
    "## MATRIX MULTIPLICATION\n",
    "When doing multiplication:\n",
    "\n",
    "-The number of columns of the 1st matrix must equal the number of rows of the 2nd matrix.\n",
    "\n",
    "-And the result will have the same number of rows as the 1st matrix, and the same number of columns as the 2nd matrix.\n",
    "\n",
    "-Multiplication is the dot product of rows and columns. Rows of the 1st matrix with columns of the 2nd"
   ]
  },
  {
   "cell_type": "markdown",
   "metadata": {},
   "source": [
    "***w is in Nul(A) if Aw = [[0],[0]]***"
   ]
  },
  {
   "cell_type": "code",
   "execution_count": 1,
   "metadata": {},
   "outputs": [],
   "source": [
    "import numpy as np"
   ]
  },
  {
   "cell_type": "code",
   "execution_count": 2,
   "metadata": {},
   "outputs": [],
   "source": [
    "P = [[1, 1, 0], [1, -1, 0], [0, 0, -1]]\n",
    "Q = [[0.5, 0.5, 0], [0.5, -0.5, 0], [0, 0, 1]]\n",
    "\n",
    "P = np.array(P)\n",
    "Q = np.array(Q)"
   ]
  },
  {
   "cell_type": "code",
   "execution_count": 3,
   "metadata": {},
   "outputs": [
    {
     "name": "stdout",
     "output_type": "stream",
     "text": [
      "[[ 1.  0.  0.]\n",
      " [ 0.  1.  0.]\n",
      " [ 0.  0. -1.]]\n"
     ]
    }
   ],
   "source": [
    "#Check that the matrices can be multiplied:\n",
    "p_shape = P.shape\n",
    "q_shape = Q.shape\n",
    "if p_shape[1] != q_shape[0]:\n",
    "    print(\"Matrix P does not have the same number of columns as Matrix Q has rows -- Multiplication Fails Here!\")\n",
    "else:\n",
    "    ## CAREFULE HERE AS THE THIRD ROW ISN'T ALWAYS PRINTED \n",
    "    PxQ = np.dot(P,Q)\n",
    "    print(PxQ)"
   ]
  }
 ],
 "metadata": {
  "kernelspec": {
   "display_name": "Python 3",
   "language": "python",
   "name": "python3"
  },
  "language_info": {
   "codemirror_mode": {
    "name": "ipython",
    "version": 3
   },
   "file_extension": ".py",
   "mimetype": "text/x-python",
   "name": "python",
   "nbconvert_exporter": "python",
   "pygments_lexer": "ipython3",
   "version": "3.8.3"
  }
 },
 "nbformat": 4,
 "nbformat_minor": 4
}
