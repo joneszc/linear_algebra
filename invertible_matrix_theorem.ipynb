{
 "cells": [
  {
   "cell_type": "markdown",
   "metadata": {},
   "source": [
    "## IS THE MATRIX INVERTIBLE?\n",
    "\n",
    "Use the Invertible Matrix Theorem to determine if the matrix is invertible. Let A be a square n×n matrix. Then the following statements are equivalent. That is, for a given A, the statements are either all true or all false.\n",
    "\n",
    "a. \tA is an invertible matrix.\n",
    "\n",
    "b. \tA is row equivalent to the n×n identity matrix.\n",
    "\n",
    "c. \tA has n pivot positions.\n",
    "\n",
    "d. \tThe equation Ax=0 has only the trivial solution.\n",
    "\n",
    "e. \tThe columns of A form a linearly independent set.\n",
    "\n",
    "f. \tThe linear transformation x ↦ Ax is one-to-one.\n",
    "\n",
    "g. \tThe equation Ax=b has at least one solution for each b in ℝn.\n",
    "\n",
    "h. \tThe columns of A span ℝn.\n",
    "\n",
    "i. \tThe linear transformation x ↦ Ax maps ℝn onto ℝn.\n",
    "\n",
    "j. \tThere is an n×n matrix C such that CA=I.\n",
    "\n",
    "k. \tThere is an n×n matrix D such that AD=I.\n",
    "\n",
    "l.\tAT is an invertible matrix."
   ]
  },
  {
   "cell_type": "code",
   "execution_count": 1,
   "metadata": {},
   "outputs": [],
   "source": [
    "import numpy as np\n",
    "from sympy import Matrix"
   ]
  },
  {
   "cell_type": "code",
   "execution_count": 2,
   "metadata": {},
   "outputs": [
    {
     "name": "stdout",
     "output_type": "stream",
     "text": [
      "The Matrix has rank:\n",
      " 3\n",
      "The Row echelon form of matrix M and the pivot columns : (Matrix([\n",
      "[1, 0, 0],\n",
      "[0, 1, 0],\n",
      "[0, 0, 1]]), (0, 1, 2))\n"
     ]
    }
   ],
   "source": [
    "A = [[1,-2,-5],\n",
    "     [0,4,3],\n",
    "     [-4,5,0]]\n",
    "A = np.array(A)\n",
    "print(\"The Matrix has rank:\"+\"\\n\",np.linalg.matrix_rank(A))\n",
    "\n",
    "# Row Reduce the Matrix:\n",
    "M_rref = Matrix(A).rref()   \n",
    "      \n",
    "print(\"The Row echelon form of matrix M and the pivot columns : {}\".format(M_rref))"
   ]
  },
  {
   "cell_type": "markdown",
   "metadata": {},
   "source": [
    "## Compute Determinant\n",
    "\n",
    "If det A is non-zero, the matrix A is invertible. Since the matrix A is invertible, the columns of A are linearly independent, by the invertible matrix theorem."
   ]
  },
  {
   "cell_type": "code",
   "execution_count": 3,
   "metadata": {},
   "outputs": [
    {
     "data": {
      "text/latex": [
       "$\\displaystyle -71$"
      ],
      "text/plain": [
       "-71"
      ]
     },
     "execution_count": 3,
     "metadata": {},
     "output_type": "execute_result"
    }
   ],
   "source": [
    "#M = Matrix([[1, 0, 1], [2, -1, 3], [4, 3, 2]])\n",
    "M = Matrix(A)\n",
    "M.det()"
   ]
  },
  {
   "cell_type": "markdown",
   "metadata": {},
   "source": [
    "## FIND INVERSE OF MATRIX\n",
    "\n",
    "The inverse of a matrix exists only if the matrix is non-singular i.e., determinant should not be 0. \n",
    "Using determinant and adjoint, we can easily find the inverse of a square matrix using below formula:"
   ]
  },
  {
   "cell_type": "code",
   "execution_count": 4,
   "metadata": {},
   "outputs": [
    {
     "name": "stdout",
     "output_type": "stream",
     "text": [
      "det = -71 \n",
      " Inverse is:  \n",
      " [[ 0.21126761  0.35211268 -0.1971831 ]\n",
      " [ 0.16901408  0.28169014  0.04225352]\n",
      " [-0.22535211 -0.04225352 -0.05633803]]\n"
     ]
    }
   ],
   "source": [
    "MM = Matrix(A)\n",
    "if MM.det() != 0:\n",
    "    print(\"det =\",MM.det(),\"\\n\",\"Inverse is: \",\"\\n\", np.linalg.inv(np.array(A)))\n",
    "else:\n",
    "    print(\"Inverse doesn't exist\")  "
   ]
  },
  {
   "cell_type": "code",
   "execution_count": 5,
   "metadata": {},
   "outputs": [
    {
     "name": "stdout",
     "output_type": "stream",
     "text": [
      "[[ 0.13368984  0.10695187  0.02139037 -0.09090909]\n",
      " [-0.00229183  0.02673797  0.14820474 -0.12987013]\n",
      " [-0.12987013  0.18181818  0.06493506 -0.02597403]\n",
      " [ 0.11000764 -0.28342246 -0.11382735  0.23376623]]\n"
     ]
    }
   ],
   "source": [
    "# Taking a 4 * 4 matrix \n",
    "A = np.array([[6, 1, 1, 3], \n",
    "              [4, -2, 5, 1], \n",
    "              [2, 8, 7, 6], \n",
    "              [3, 1, 9, 7]]) \n",
    "  \n",
    "# Calculating the inverse of the matrix \n",
    "print(np.linalg.inv(A))"
   ]
  }
 ],
 "metadata": {
  "kernelspec": {
   "display_name": "Python 3",
   "language": "python",
   "name": "python3"
  },
  "language_info": {
   "codemirror_mode": {
    "name": "ipython",
    "version": 3
   },
   "file_extension": ".py",
   "mimetype": "text/x-python",
   "name": "python",
   "nbconvert_exporter": "python",
   "pygments_lexer": "ipython3",
   "version": "3.8.3"
  }
 },
 "nbformat": 4,
 "nbformat_minor": 4
}
