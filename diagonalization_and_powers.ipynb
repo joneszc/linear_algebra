{
 "cells": [
  {
   "cell_type": "markdown",
   "metadata": {},
   "source": [
    "## Diagonalization\n",
    "A square matrix M is diagonalizable if it is similar to a diagonal matrix. In other words, M is diagonalizable if there exists an invertible matrix P such that D=P−1MP is a diagonal matrix.\n",
    "A beautiful result in linear algebra is that a square matrix M of size n is diagonalizable if and only if M has n independent eigevectors. Furthermore, M=PDP−1 where the columns of P are the eigenvectors of M and D has corresponding eigenvalues along the diagonal.\n",
    "Let's use this to construct a matrix with given eigenvalues λ1=3,λ2=1, and eigenvectors v1=[1,1]T,v2=[1,−1]T."
   ]
  },
  {
   "cell_type": "code",
   "execution_count": 8,
   "metadata": {},
   "outputs": [],
   "source": [
    "import numpy as np\n",
    "from sympy import Matrix\n",
    "from pprint import pprint\n",
    "from scipy import linalg"
   ]
  },
  {
   "cell_type": "code",
   "execution_count": 2,
   "metadata": {},
   "outputs": [
    {
     "name": "stdout",
     "output_type": "stream",
     "text": [
      "[[ 2  1]\n",
      " [ 1 -1]]\n"
     ]
    }
   ],
   "source": [
    "P = np.array([[2,1],[1,-1]])\n",
    "print(P)"
   ]
  },
  {
   "cell_type": "code",
   "execution_count": 3,
   "metadata": {},
   "outputs": [
    {
     "name": "stdout",
     "output_type": "stream",
     "text": [
      "[[3 0]\n",
      " [0 1]]\n"
     ]
    }
   ],
   "source": [
    "D = np.diag((3,1))\n",
    "print(D)"
   ]
  },
  {
   "cell_type": "code",
   "execution_count": 4,
   "metadata": {},
   "outputs": [
    {
     "name": "stdout",
     "output_type": "stream",
     "text": [
      "[(-3, 2, [Matrix([\n",
      "[0],\n",
      "[0],\n",
      "[1],\n",
      "[0]]), Matrix([\n",
      "[0],\n",
      "[0],\n",
      "[0],\n",
      "[1]])]), (5, 2, [Matrix([\n",
      "[-8],\n",
      "[ 4],\n",
      "[ 1],\n",
      "[ 0]]), Matrix([\n",
      "[-16],\n",
      "[  4],\n",
      "[  0],\n",
      "[  1]])])]\n"
     ]
    }
   ],
   "source": [
    "## SET-UP THE MATRIX A\n",
    "A2 = np.array([[5, 0, 0, 0], \n",
    "              [0, 5, 0, 0], \n",
    "              [1, 4, -3, 0], \n",
    "              [-1, -2, 0, -3]]) \n",
    "\n",
    "A4 = np.array([[2, 0, 0],\n",
    "              [-1, 1, 0],\n",
    "              [5, 3, -3]])\n",
    "\n",
    "A5 = np.array([[2, 3],\n",
    "              [4, 1]])\n",
    "\n",
    "#A = Matrix([[0, 2], [1, -3]])\n",
    "A = Matrix(A2)\n",
    "\n",
    "print(A.eigenvects())\n",
    "def is_whole(d):\n",
    "    \"\"\"Whether or not d is a whole number.\"\"\"\n",
    "    return isinstance(d, int) or (isinstance(d, float) and d.is_integer())"
   ]
  },
  {
   "cell_type": "code",
   "execution_count": 5,
   "metadata": {},
   "outputs": [
    {
     "name": "stdout",
     "output_type": "stream",
     "text": [
      "Eigenvalue: -3 ; Multiplicity: 2\n",
      "Eigenvalue: 5 ; Multiplicity: 2\n",
      "\n",
      " [[0, 0, 1, 0], [0, 0, 0, 1], [-8, 4, 1, 0], [-16, 4, 0, 1]]\n",
      "Matrix([\n",
      "[0, 0, -8, -16],\n",
      "[0, 0,  4,   4],\n",
      "[1, 0,  1,   0],\n",
      "[0, 1,  0,   1]])\n",
      "\n",
      " Reversed: \n",
      " [[-16, 4, 0, 1], [-8, 4, 1, 0], [0, 0, 0, 1], [0, 0, 1, 0]]\n",
      "Matrix([\n",
      "[-16, -8, 0, 0],\n",
      "[  4,  4, 0, 0],\n",
      "[  0,  1, 0, 1],\n",
      "[  1,  0, 1, 0]])\n"
     ]
    }
   ],
   "source": [
    "import math\n",
    "from math import gcd\n",
    "from functools import reduce\n",
    "from fractions import Fraction\n",
    "from decimal import Decimal\n",
    "def find_gcd(list):\n",
    "    x = reduce(gcd, list)\n",
    "    return x\n",
    "matrix = []\n",
    "for i in range(len(A.eigenvects())):\n",
    "    print(\"Eigenvalue:\", A.eigenvects()[i][0], \"; Multiplicity:\", A.eigenvects()[i][1])\n",
    "    if len(A.eigenvects()[i][2]) > 1:\n",
    "        mult = 1 \n",
    "        eigenvect = A.eigenvects()[i][2]\n",
    "        for x in range(len(eigenvect)):\n",
    "            temp_eigenvect = eigenvect[x]\n",
    "            for t in temp_eigenvect:\n",
    "                if not is_whole(t):\n",
    "                    mult=Fraction(str(t)).denominator\n",
    "                    temp_eigenvect = temp_eigenvect*mult\n",
    "            #matrix.append([ele for ele in temp_eigenvect])\n",
    "            matrix.append([ele/find_gcd(list(temp_eigenvect)) for ele in temp_eigenvect])\n",
    "            #matrix.append([ele/max(list(temp_eigenvect)) for ele in temp_eigenvect])\n",
    "            #pprint(temp_eigenvect)\n",
    "    #print(A.eigenvects()[i][-1])\n",
    "    elif len(A.eigenvects()[i][2]) == 1: \n",
    "        mult = 1 \n",
    "        eigenvect=A.eigenvects()[i][2]\n",
    "        for x in range(len(eigenvect)):\n",
    "            #pprint(A.eigenvects()[i][2][x])\n",
    "            temp_eigenvect = eigenvect[x]\n",
    "            for t in temp_eigenvect:\n",
    "                #if not is_whole(t):\n",
    "                if str(t).count('/') >0:\n",
    "                    print(t)\n",
    "                    if t!=0:\n",
    "                        mult=np.reciprocal(Fraction(str(t)))#.denominator\n",
    "                        div = Fraction(str(t)).numerator\n",
    "                        #print(mult)\n",
    "                        temp_eigenvect = temp_eigenvect*mult\n",
    "                        print(temp_eigenvect)\n",
    "                        break\n",
    "                    #if div != 0:\n",
    "                        #temp_eigenvectt=[]\n",
    "                        #for ii in temp_eigenvect:\n",
    "                            #temp_eigenvectt.append(float(ii))\n",
    "                            #print(div)\n",
    "                        #temp_eigenvectt = Matrix(np.array(temp_eigenvectt))  \n",
    "                        #print(temp_eigenvectt)\n",
    "                        #temp_eigenvect = temp_eigenvect\n",
    "                    #pprint(temp_eigenvect)\n",
    "            #matrix.append([ele for ele in temp_eigenvect])\n",
    "            #matrix.append([ele/find_gcd(list(temp_eigenvect)) for ele in temp_eigenvect])\n",
    "            #matrix.append([ele/max(list(temp_eigenvect)) for ele in temp_eigenvect])\n",
    "            matrix.append(temp_eigenvect)\n",
    "#if len(matrix[0]) != len(matrix):\n",
    "    #print(\"WARNING: THIS MATRIX CANNOT BE DIAGONALIZED BC THERE ARENT ENOUGH N EIGENVECTORS FOR NxN MATRIX.\")\n",
    "else:\n",
    "    print(\"\\n\",matrix)\n",
    "    M = Matrix(np.array(matrix))\n",
    "    # reversing column order in matrix   np.fliplr(arr)\n",
    "    flipped_M =Matrix(np.fliplr(np.array(matrix).T))\n",
    "    pprint(M.T) \n",
    "    print(\"\\n\",\"Reversed:\", \"\\n\",matrix[::-1])\n",
    "    pprint(flipped_M)"
   ]
  },
  {
   "cell_type": "markdown",
   "metadata": {},
   "source": [
    "***An n×n matrix is diagonalizable if and only if it has n linearly independent eigenvectors. For a diagonalizable matrix A=PDP−1, these eigenvectors are the columns of P and the corresponding eigenvalues are the diagonal entries of D. Remember to use integers or fractions for any entries in a matrix.***"
   ]
  },
  {
   "cell_type": "markdown",
   "metadata": {},
   "source": [
    "## Matrix Powers\n",
    "Let M be a square matrix. Computing powers of M by matrix multiplication\n",
    "let's use diagonalization to compute M^k more efficiently\n",
    "Let's compute M^k"
   ]
  },
  {
   "cell_type": "code",
   "execution_count": 6,
   "metadata": {},
   "outputs": [
    {
     "name": "stdout",
     "output_type": "stream",
     "text": [
      "[[ 1  1  0]\n",
      " [ 1 -1  0]\n",
      " [ 0  0  1]]\n"
     ]
    }
   ],
   "source": [
    "#Matrix from above... construct a matrix with given eigenvalues... and eigenvectors v1=[1,1]T,v2=[1,−1]T.\n",
    "#construct a matrix with given eigenvalues , and eigenvectors .\n",
    "P = np.array([[1,1,0],[1,-1, 0], [0,0,1]])\n",
    "print(P)"
   ]
  },
  {
   "cell_type": "code",
   "execution_count": 10,
   "metadata": {},
   "outputs": [
    {
     "name": "stdout",
     "output_type": "stream",
     "text": [
      "[[ 0.5  0.5 -0. ]\n",
      " [ 0.5 -0.5  0. ]\n",
      " [ 0.   0.   1. ]]\n"
     ]
    }
   ],
   "source": [
    "Pinv = linalg.inv(P)\n",
    "#Pinv = np.array([[-5,-3],[-3,-2]]) \n",
    "print(Pinv)"
   ]
  },
  {
   "cell_type": "code",
   "execution_count": 11,
   "metadata": {},
   "outputs": [],
   "source": [
    "k = 2019"
   ]
  },
  {
   "cell_type": "code",
   "execution_count": 12,
   "metadata": {},
   "outputs": [
    {
     "name": "stdout",
     "output_type": "stream",
     "text": [
      "[[ 1  0  0]\n",
      " [ 0  1  0]\n",
      " [ 0  0 -1]]\n"
     ]
    }
   ],
   "source": [
    "#diagonal from above... construct a matrix with given eigenvalues λ1=3,λ2=1 and eigenvectors...\n",
    "D = np.diag((1,1,-1))\n",
    "print(D)"
   ]
  },
  {
   "cell_type": "code",
   "execution_count": 13,
   "metadata": {},
   "outputs": [
    {
     "data": {
      "text/plain": [
       "array([[ 1.,  0.,  0.],\n",
       "       [ 0.,  1.,  0.],\n",
       "       [ 0.,  0., -1.]])"
      ]
     },
     "execution_count": 13,
     "metadata": {},
     "output_type": "execute_result"
    }
   ],
   "source": [
    "##Using diagonalization to compute M to k power.\n",
    "P @ D**k @ Pinv"
   ]
  },
  {
   "cell_type": "code",
   "execution_count": 14,
   "metadata": {},
   "outputs": [
    {
     "name": "stdout",
     "output_type": "stream",
     "text": [
      "The factors of 509 are:\n",
      "1\n",
      "509\n",
      "The factors of 256 are:\n",
      "1\n",
      "2\n",
      "4\n",
      "8\n",
      "16\n",
      "32\n",
      "64\n",
      "128\n",
      "256\n",
      "None None\n"
     ]
    }
   ],
   "source": [
    "# Python function to find the factors of a number\n",
    "\n",
    "# This function computes the factor of the argument passed\n",
    "def print_factors(x):\n",
    "   print(\"The factors of\",x,\"are:\")\n",
    "   for i in range(1, x + 1):\n",
    "       if x % i == 0:\n",
    "           print(i)\n",
    "\n",
    "num = 509\n",
    "num2 = 256\n",
    "\n",
    "print(print_factors(num), print_factors(num2))"
   ]
  },
  {
   "cell_type": "code",
   "execution_count": null,
   "metadata": {},
   "outputs": [],
   "source": []
  }
 ],
 "metadata": {
  "kernelspec": {
   "display_name": "Python 3",
   "language": "python",
   "name": "python3"
  },
  "language_info": {
   "codemirror_mode": {
    "name": "ipython",
    "version": 3
   },
   "file_extension": ".py",
   "mimetype": "text/x-python",
   "name": "python",
   "nbconvert_exporter": "python",
   "pygments_lexer": "ipython3",
   "version": "3.8.3"
  }
 },
 "nbformat": 4,
 "nbformat_minor": 4
}
