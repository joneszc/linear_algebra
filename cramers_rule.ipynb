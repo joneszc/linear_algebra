{
 "cells": [
  {
   "cell_type": "code",
   "execution_count": 1,
   "metadata": {},
   "outputs": [],
   "source": [
    "import numpy as np\n",
    "from sympy import Matrix"
   ]
  },
  {
   "cell_type": "code",
   "execution_count": 2,
   "metadata": {},
   "outputs": [
    {
     "name": "stdout",
     "output_type": "stream",
     "text": [
      "The detA = -32 \n",
      "\n",
      "Because the determinant of A is not zero, A is invertible and the system has a unique solution;\n",
      " Thus Cramer's rule and be applied\n"
     ]
    }
   ],
   "source": [
    "# Find determinant:\n",
    "#M = Matrix([[7, 4, 1], [3, 0, 1], [-4, 4, 0]])\n",
    "#M = Matrix(Md)\n",
    "A = np.array([[7, 4, 1], [3, 0, 1], [-4, 4, 0]])\n",
    "#A = [[5.,3.,1.],[3.,9.,4.],[1.,3.,5.]]\n",
    "B = [[9.0],[16.0],[9.0]]\n",
    "\n",
    "detA = Matrix(A).det()\n",
    "print(\"The detA =\",detA,\"\\n\")\n",
    "if Matrix(A).det() != 0:\n",
    "    print(\"Because the determinant of A is not zero, A is invertible and the system has a unique solution;\"+\"\\n\"+\" Thus Cramer's rule and be applied\")"
   ]
  },
  {
   "cell_type": "code",
   "execution_count": 3,
   "metadata": {},
   "outputs": [
    {
     "name": "stdout",
     "output_type": "stream",
     "text": [
      "A1(b):\n",
      " [[ 9.  4.  1.]\n",
      " [16.  0.  1.]\n",
      " [ 9.  4.  0.]]\n",
      "detA1(b) = 64.0000000000000\n",
      "x1 = -2.00000000000000\n",
      "\n",
      "A2(b):\n",
      " [[ 7.  9.  1.]\n",
      " [ 3. 16.  1.]\n",
      " [-4.  9.  0.]]\n",
      "detA2(b) = -8.00000000000000\n",
      "x2 = 0.250000000000000\n",
      "\n",
      "A3(b):\n",
      " [[ 7.  4.  9.]\n",
      " [ 3.  0. 16.]\n",
      " [-4.  4.  9.]]\n",
      "detA3(b) = -704.000000000000\n",
      "x3 = 22.0000000000000\n"
     ]
    }
   ],
   "source": [
    "#variable x1 can be found by A1(b), where A1(b) is obtained from A w/ replacing column 1 by the vector b:\n",
    "newA = np.array(list(A.T)[1:]).T\n",
    "A1_b=(np.column_stack((B,newA)))\n",
    "print(\"A1(b):\"+\"\\n\",A1_b)\n",
    "detA1_b = Matrix(A1_b).det()\n",
    "print(\"detA1(b) =\",detA1_b)\n",
    "print(\"x1 =\",detA1_b/detA)\n",
    "\n",
    "#variable x2 can be found by A2(b), where A2(b) is obtained from A w/ replacing column 2 by the vector b:\n",
    "newA21 = list(A.T)[0]\n",
    "#newA22 = list(B.T)\n",
    "newA23 = list(A.T)[2]\n",
    "newA2 = A1_b=(np.column_stack((newA21,B,newA23)))\n",
    "print(\"\\n\"+\"A2(b):\"+\"\\n\", newA2)\n",
    "detA2_b = Matrix(newA2).det()\n",
    "print(\"detA2(b) =\",detA2_b)\n",
    "print(\"x2 =\",detA2_b/detA)\n",
    "\n",
    "#variable x3 can be found by A3(b), where A3(b) is obtained from A w/ replacing column 3 by the vector b:\n",
    "newA3 = np.array(list(A.T)[0:2]).T\n",
    "A3_b=(np.column_stack((newA3,B)))\n",
    "print(\"\\n\"+\"A3(b):\"+\"\\n\",A3_b)\n",
    "detA3_b = Matrix(A3_b).det()\n",
    "print(\"detA3(b) =\",detA3_b)\n",
    "\n",
    "print(\"x3 =\",detA3_b/detA)"
   ]
  },
  {
   "cell_type": "code",
   "execution_count": 4,
   "metadata": {},
   "outputs": [
    {
     "name": "stdout",
     "output_type": "stream",
     "text": [
      "Enter a: \n"
     ]
    },
    {
     "ename": "ValueError",
     "evalue": "could not convert string to float: ''",
     "output_type": "error",
     "traceback": [
      "\u001b[1;31m---------------------------------------------------------------------------\u001b[0m",
      "\u001b[1;31mValueError\u001b[0m                                Traceback (most recent call last)",
      "\u001b[1;32m<ipython-input-4-b7227adbe624>\u001b[0m in \u001b[0;36m<module>\u001b[1;34m\u001b[0m\n\u001b[1;32m----> 1\u001b[1;33m \u001b[0ma\u001b[0m \u001b[1;33m=\u001b[0m \u001b[0mfloat\u001b[0m\u001b[1;33m(\u001b[0m\u001b[0minput\u001b[0m\u001b[1;33m(\u001b[0m\u001b[1;34m\"Enter a: \"\u001b[0m\u001b[1;33m)\u001b[0m\u001b[1;33m)\u001b[0m\u001b[1;33m\u001b[0m\u001b[1;33m\u001b[0m\u001b[0m\n\u001b[0m\u001b[0;32m      2\u001b[0m \u001b[0mb\u001b[0m \u001b[1;33m=\u001b[0m \u001b[0mfloat\u001b[0m\u001b[1;33m(\u001b[0m\u001b[0minput\u001b[0m\u001b[1;33m(\u001b[0m\u001b[1;34m\"Enter b: \"\u001b[0m\u001b[1;33m)\u001b[0m\u001b[1;33m)\u001b[0m\u001b[1;33m\u001b[0m\u001b[1;33m\u001b[0m\u001b[0m\n\u001b[0;32m      3\u001b[0m \u001b[0mc\u001b[0m \u001b[1;33m=\u001b[0m \u001b[0mfloat\u001b[0m\u001b[1;33m(\u001b[0m\u001b[0minput\u001b[0m\u001b[1;33m(\u001b[0m\u001b[1;34m\"Enter c: \"\u001b[0m\u001b[1;33m)\u001b[0m\u001b[1;33m)\u001b[0m\u001b[1;33m\u001b[0m\u001b[1;33m\u001b[0m\u001b[0m\n\u001b[0;32m      4\u001b[0m \u001b[0md\u001b[0m \u001b[1;33m=\u001b[0m \u001b[0mfloat\u001b[0m\u001b[1;33m(\u001b[0m\u001b[0minput\u001b[0m\u001b[1;33m(\u001b[0m\u001b[1;34m\"Enter d: \"\u001b[0m\u001b[1;33m)\u001b[0m\u001b[1;33m)\u001b[0m\u001b[1;33m\u001b[0m\u001b[1;33m\u001b[0m\u001b[0m\n\u001b[0;32m      5\u001b[0m \u001b[0me\u001b[0m \u001b[1;33m=\u001b[0m \u001b[0mfloat\u001b[0m\u001b[1;33m(\u001b[0m\u001b[0minput\u001b[0m\u001b[1;33m(\u001b[0m\u001b[1;34m\"Enter e: \"\u001b[0m\u001b[1;33m)\u001b[0m\u001b[1;33m)\u001b[0m\u001b[1;33m\u001b[0m\u001b[1;33m\u001b[0m\u001b[0m\n",
      "\u001b[1;31mValueError\u001b[0m: could not convert string to float: ''"
     ]
    }
   ],
   "source": [
    "a = float(input(\"Enter a: \"))\n",
    "b = float(input(\"Enter b: \"))\n",
    "c = float(input(\"Enter c: \"))\n",
    "d = float(input(\"Enter d: \"))\n",
    "e = float(input(\"Enter e: \"))\n",
    "f = float(input(\"Enter f: \"))\n",
    "\n",
    "##a*x + by = e\n",
    "##cx + dy = f\n",
    "\n",
    "if (a*d - b*c == 0):\n",
    "    print(\"The equation has no solution\")\n",
    "else:\n",
    "    x = (e*d-b*f)/(a*d-b*c)\n",
    "    y = (a*f-e*d)/(a*d-b*c)\n",
    "\n",
    "    print (\"x=%s\" % x, \"y=%s\" % y)"
   ]
  },
  {
   "cell_type": "code",
   "execution_count": null,
   "metadata": {},
   "outputs": [],
   "source": []
  }
 ],
 "metadata": {
  "kernelspec": {
   "display_name": "Python 3",
   "language": "python",
   "name": "python3"
  },
  "language_info": {
   "codemirror_mode": {
    "name": "ipython",
    "version": 3
   },
   "file_extension": ".py",
   "mimetype": "text/x-python",
   "name": "python",
   "nbconvert_exporter": "python",
   "pygments_lexer": "ipython3",
   "version": "3.8.3"
  }
 },
 "nbformat": 4,
 "nbformat_minor": 4
}
